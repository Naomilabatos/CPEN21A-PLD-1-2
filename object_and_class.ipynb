{
  "nbformat": 4,
  "nbformat_minor": 0,
  "metadata": {
    "colab": {
      "provenance": [],
      "toc_visible": true,
      "authorship_tag": "ABX9TyMCi2vXayWrim7vEPUacirG",
      "include_colab_link": true
    },
    "kernelspec": {
      "name": "python3",
      "display_name": "Python 3"
    },
    "language_info": {
      "name": "python"
    }
  },
  "cells": [
    {
      "cell_type": "markdown",
      "metadata": {
        "id": "view-in-github",
        "colab_type": "text"
      },
      "source": [
        "<a href=\"https://colab.research.google.com/github/Naomilabatos/CPEN21A-PLD-1-2/blob/main/object_and_class.ipynb\" target=\"_parent\"><img src=\"https://colab.research.google.com/assets/colab-badge.svg\" alt=\"Open In Colab\"/></a>"
      ]
    },
    {
      "cell_type": "markdown",
      "source": [
        "Perimeter()and Area () as methods to compute for the length and width attributes perimeter and area of rectangle. "
      ],
      "metadata": {
        "id": "GiqsJvet8X9G"
      }
    },
    {
      "cell_type": "code",
      "source": [
        "class Shape:\n",
        "  def __init__(shape,length,width):\n",
        "    shape.length = length\n",
        "    shape.width = width \n",
        "\n",
        "  def Area (shape):\n",
        "    return rectangle.length*rectangle.width\n",
        "\n",
        "  def Perimeter (shape):\n",
        "    return (rectangle.length+rectangle.width)*2\n",
        "  \n",
        "class Rectangle(Shape):\n",
        "   pass\n",
        "\n",
        "rectangle = Rectangle (10,20)\n",
        "\n",
        "print(rectangle.Area())\n",
        "print(rectangle.Perimeter())"
      ],
      "metadata": {
        "colab": {
          "base_uri": "https://localhost:8080/"
        },
        "id": "bBu9Tef1-deY",
        "outputId": "fda4cd54-19bf-4f31-c34d-df4aa6caa264"
      },
      "execution_count": null,
      "outputs": [
        {
          "output_type": "stream",
          "name": "stdout",
          "text": [
            "200\n",
            "60\n"
          ]
        }
      ]
    }
  ]
}