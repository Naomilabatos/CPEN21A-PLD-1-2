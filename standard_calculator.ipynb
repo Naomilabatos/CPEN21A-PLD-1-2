{
  "nbformat": 4,
  "nbformat_minor": 0,
  "metadata": {
    "colab": {
      "provenance": [],
      "authorship_tag": "ABX9TyPN6gHUXdX5ztJoigIvIu+M",
      "include_colab_link": true
    },
    "kernelspec": {
      "name": "python3",
      "display_name": "Python 3"
    },
    "language_info": {
      "name": "python"
    }
  },
  "cells": [
    {
      "cell_type": "markdown",
      "metadata": {
        "id": "view-in-github",
        "colab_type": "text"
      },
      "source": [
        "<a href=\"https://colab.research.google.com/github/Naomilabatos/CPEN21A-PLD-1-2/blob/main/standard_calculator.ipynb\" target=\"_parent\"><img src=\"https://colab.research.google.com/assets/colab-badge.svg\" alt=\"Open In Colab\"/></a>"
      ]
    },
    {
      "cell_type": "code",
      "source": [
        "rom tkinter import *\n",
        "win = Tk()\n",
        "\n",
        "#add widgets\n",
        "class MyWin:\n",
        "    def __init__(self,win):\n",
        "        self.lbl1 = Label(win,text=\"My First Standard Calculator\")\n",
        "        self.lbl1.place(x=200,y=20)\n",
        "        self.lbl2 = Label(win,text=\"1st No.\")\n",
        "        self.lbl2.place(x=100,y=50)\n",
        "        self.txt1 = Entry(win,bd=2)\n",
        "        self.txt1.place(x=150,y=50)\n",
        "        self.lbl3 = Label(win,text=\"2nd No.\")\n",
        "        self.lbl3.place(x=100,y=80)\n",
        "        self.txt2 = Entry(win,bd=2)\n",
        "        self.txt2.place(x=150,y=80)\n",
        "        self.lbl4= Label(win,text=\"Result\")\n",
        "        self.lbl4.place(x=100,y=120)\n",
        "        self.txt3 = Entry(win,bd=2)\n",
        "        self.txt3.place(x=150,y=120)\n",
        "        self.btn1 = Button(win,text=\"Addition\")\n",
        "        self.btn1.bind('<Button-1>',self.addition)\n",
        "        self.btn1.place(x=150,y=150)\n",
        "        self.btn2 = Button(win, text=\"Subtraction\", command = self.subtraction)\n",
        "        self.btn2.place(x=220, y=150)\n",
        "\n",
        "    def addition(self,event):\n",
        "        self.txt3.delete(0,'end')\n",
        "        num1 = int(self.txt1.get())\n",
        "        num2 = int(self.txt2.get())\n",
        "        result = num1+num2\n",
        "        self.txt3.insert(END,str(result))\n",
        "\n",
        "    def subtraction(self):\n",
        "        self.txt3.delete(0, 'end')\n",
        "        num1 = int(self.txt1.get())\n",
        "        num2 = int(self.txt2.get())\n",
        "        result = num1 - num2\n",
        "        self.txt3.insert(END, str(result))\n",
        "mywin = MyWin(win)\n",
        "\n",
        "\n",
        "win.geometry(\"500x400+10+10\")\n",
        "win.title(\"Standard Calculator\")\n",
        "win.mainloop()"
      ],
      "metadata": {
        "id": "aJjNMb7SdZYk"
      },
      "execution_count": null,
      "outputs": []
    }
  ]
}