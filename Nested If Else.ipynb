{
  "nbformat": 4,
  "nbformat_minor": 0,
  "metadata": {
    "colab": {
      "provenance": [],
      "authorship_tag": "ABX9TyM7q7dHx0vqKOqh2bstnjWG",
      "include_colab_link": true
    },
    "kernelspec": {
      "name": "python3",
      "display_name": "Python 3"
    },
    "language_info": {
      "name": "python"
    }
  },
  "cells": [
    {
      "cell_type": "markdown",
      "metadata": {
        "id": "view-in-github",
        "colab_type": "text"
      },
      "source": [
        "<a href=\"https://colab.research.google.com/github/Naomilabatos/CPEN21A-PLD-1-2/blob/main/Nested%20If%20Else.ipynb\" target=\"_parent\"><img src=\"https://colab.research.google.com/assets/colab-badge.svg\" alt=\"Open In Colab\"/></a>"
      ]
    },
    {
      "cell_type": "markdown",
      "source": [
        "Nested if else "
      ],
      "metadata": {
        "id": "qweuG8CyunNJ"
      }
    },
    {
      "cell_type": "code",
      "source": [
        "x = 55\n",
        "if x>10:\n",
        "  print (\"above ten\")\n",
        "  if x<20:\n",
        "    print (\"below twenty\")\n",
        "  else:\n",
        "      print (\"above twenty\")\n",
        "      if x<30:\n",
        "        print (\"below thirty\")\n",
        "      else:\n",
        "        print (\"above thirty\")\n",
        "        if x<40:\n",
        "          print (\"below forty\")\n",
        "        else:\n",
        "          print (\"above forty\")\n",
        "          if x<50:\n",
        "            print (\"below fifty\")\n",
        "          else:\n",
        "            print (\"above fifty\")\n",
        "            if x<60:\n",
        "              print (\"below sixty\")\n",
        "            else:\n",
        "              print (\"above sixty\")\n",
        "else:\n",
        "   print (\"not above ten\")"
      ],
      "metadata": {
        "colab": {
          "base_uri": "https://localhost:8080/"
        },
        "id": "Nx5DAN0euy9s",
        "outputId": "2512d000-9faa-4587-d5ad-2cb7fbcc1122"
      },
      "execution_count": 21,
      "outputs": [
        {
          "output_type": "stream",
          "name": "stdout",
          "text": [
            "above ten\n",
            "above twenty\n",
            "above thirty\n",
            "above forty\n",
            "above fifty\n",
            "below sixty\n"
          ]
        }
      ]
    }
  ]
}