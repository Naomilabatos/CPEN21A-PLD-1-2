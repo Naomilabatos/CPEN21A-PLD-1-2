{
  "nbformat": 4,
  "nbformat_minor": 0,
  "metadata": {
    "colab": {
      "provenance": [],
      "authorship_tag": "ABX9TyMQbmXmdEJqpEIDhoO4EwRj",
      "include_colab_link": true
    },
    "kernelspec": {
      "name": "python3",
      "display_name": "Python 3"
    },
    "language_info": {
      "name": "python"
    }
  },
  "cells": [
    {
      "cell_type": "markdown",
      "metadata": {
        "id": "view-in-github",
        "colab_type": "text"
      },
      "source": [
        "<a href=\"https://colab.research.google.com/github/Naomilabatos/CPEN21A-PLD-1-2/blob/main/demo_2.ipynb\" target=\"_parent\"><img src=\"https://colab.research.google.com/assets/colab-badge.svg\" alt=\"Open In Colab\"/></a>"
      ]
    },
    {
      "cell_type": "code",
      "source": [
        "#add widgets to create a UI application program\n",
        "\n",
        "from tkinter import *\n",
        "window = Tk()\n",
        "window.geometry(\"500x400+10+20\")\n",
        "\n",
        "window.title(\"My first Python GUI\")\n",
        "\n",
        "#add label widget\n",
        "#lbl = Label(window, text= \"My First UI Python Program\",fg = \"red\",font =(\"Verdana,16\"))\n",
        "#lbl.place(x=60,y=70)\n",
        "#add button widget\n",
        "\n",
        "btn = Button(window,text = \"Submit\", bg=\"Blue\")\n",
        "btn.place(x=100, y =150)\n",
        "\n",
        "#add text field\n",
        "\n",
        "txtfld = Entry(window,text=\"This is an entry widget\", bd =5)\n",
        "txtfld.place(x=80,y=100)\n",
        "def sel():\n",
        "    selection = \"You selected the option\" + str(var.get())\n",
        "    label.config(text = selection)\n",
        "var = IntVar()\n",
        "r1 = Radiobutton(window,text=\"Male\", variable= var,value=1,command = sel)\n",
        "r1.pack(anchor=W)\n",
        "\n",
        "r2 = Radiobutton(window,text=\"Female\", variable= var,value=2,command = sel)\n",
        "\n",
        "r2.pack(anchor=W)\n",
        "\n",
        "label = Label(window)\n",
        "label.pack()\n",
        "window.mainloop()"
      ],
      "metadata": {
        "id": "FdAcf4LYUtmn"
      },
      "execution_count": null,
      "outputs": []
    }
  ]
}